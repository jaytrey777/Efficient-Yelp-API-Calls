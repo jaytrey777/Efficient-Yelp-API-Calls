{
 "cells": [
  {
   "cell_type": "markdown",
   "id": "4c356a93",
   "metadata": {},
   "source": [
    "# Tasks"
   ]
  },
  {
   "cell_type": "markdown",
   "id": "885c5c08",
   "metadata": {},
   "source": [
    "For this assignment, you will be working with the Yelp API.\n",
    "\n",
    "As before, you will use the Yelp API to search your favorite city for a cuisine type of your choice.\n",
    "\n",
    "Extract all of the results from your search and compile them into one dataframe using a for loop as shown in the lesson \"Code for Efficient API Extraction\"\n",
    "\n",
    "Save your notebook, commit the change to your repository and submit the repository URL for this assignment."
   ]
  },
  {
   "cell_type": "markdown",
   "id": "d8d96a2c",
   "metadata": {},
   "source": [
    "# Imports"
   ]
  },
  {
   "cell_type": "code",
   "execution_count": 1,
   "id": "f56678d3",
   "metadata": {},
   "outputs": [
    {
     "name": "stdout",
     "output_type": "stream",
     "text": [
      "Requirement already satisfied: tqdm in /opt/homebrew/Caskroom/miniforge/base/envs/dojo-env/lib/python3.9/site-packages (4.64.1)\r\n"
     ]
    }
   ],
   "source": [
    "# Standard\n",
    "import numpy as np\n",
    "import pandas as pd\n",
    "import matplotlib.pyplot as plt\n",
    "import seaborn as sns\n",
    "\n",
    "# New Imports\n",
    "import os, json, math, time\n",
    "from yelpapi import YelpAPI\n",
    "from tqdm.notebook import tqdm_notebook\n",
    "\n",
    "# Install tmdbsimple \n",
    "!pip install tqdm"
   ]
  },
  {
   "cell_type": "markdown",
   "id": "77c6a7d7",
   "metadata": {},
   "source": [
    "## Login Information"
   ]
  },
  {
   "cell_type": "code",
   "execution_count": 11,
   "id": "794611b3",
   "metadata": {},
   "outputs": [],
   "source": [
    "import json\n",
    "with open('/Users/jasontracey/.secret/yelp_api.json') as f: #change the path to match YOUR path!!\n",
    "    login = json.load(f)\n",
    "\n",
    "yelp_api = YelpAPI(login['API Key'], timeout_s=5.0)"
   ]
  },
  {
   "cell_type": "markdown",
   "id": "daeebf3a",
   "metadata": {},
   "source": [
    "# Function"
   ]
  },
  {
   "cell_type": "code",
   "execution_count": 12,
   "id": "4ec9fa63",
   "metadata": {},
   "outputs": [],
   "source": [
    "def create_json_file(JSON_FILE,  delete_if_exists=False):\n",
    "\n",
    "    ## Check if JSON_FILE exists    \n",
    "    file_exists = os.path.isfile(JSON_FILE)\n",
    "    \n",
    "    ## If it DOES exist:\n",
    "    if file_exists == True:\n",
    "        \n",
    "        ## Check if user wants to delete if exists\n",
    "        if delete_if_exists==True:\n",
    "            print(f\"[!] {JSON_FILE} already exists. Deleting previous file...\")\n",
    "            ## delete file and confirm it no longer exits.\n",
    "            os.remove(JSON_FILE)\n",
    "            ## Recursive call to function after old file deleted\n",
    "            create_json_file(JSON_FILE,delete_if_exists=False)\n",
    "        else:\n",
    "            print(f\"[i] {JSON_FILE} already exists.\")            \n",
    "\n",
    "    ## If it does NOT exist:\n",
    "    else:\n",
    "        ## INFORM USER AND SAVE EMPTY LIST\n",
    "        print(f\"[i] {JSON_FILE} not found. Saving empty list to new file.\")\n",
    "        \n",
    "        ## CREATE ANY NEEDED FOLDERS\n",
    "        # Get the Folder Name only\n",
    "        folder = os.path.dirname(JSON_FILE)\n",
    "        \n",
    "        ## If JSON_FILE included a folder:\n",
    "        if len(folder)>0:\n",
    "            # create the folder\n",
    "            os.makedirs(folder,exist_ok=True)\n",
    "        ## Save empty list to start the json file\n",
    "        with open(JSON_FILE,'w') as f:\n",
    "            json.dump([],f)  "
   ]
  },
  {
   "cell_type": "markdown",
   "id": "9ecc8e13",
   "metadata": {},
   "source": [
    "# Set Search Parameters"
   ]
  },
  {
   "cell_type": "code",
   "execution_count": 13,
   "id": "2dc17377",
   "metadata": {},
   "outputs": [],
   "source": [
    "# set our API call parameters \n",
    "LOCATION = 'San Diego, CA'\n",
    "TERM = 'Sushi'"
   ]
  },
  {
   "cell_type": "code",
   "execution_count": 16,
   "id": "98887bf1",
   "metadata": {
    "scrolled": false
   },
   "outputs": [
    {
     "data": {
      "text/plain": [
       "'Data/results_in_progress_San_Diego_sushi.json'"
      ]
     },
     "execution_count": 16,
     "metadata": {},
     "output_type": "execute_result"
    }
   ],
   "source": [
    "# Specifying JSON_FILE filename (can include a folder)\n",
    "# include the search terms in the filename\n",
    "JSON_FILE = \"Data/results_in_progress_San_Diego_sushi.json\"\n",
    "JSON_FILE"
   ]
  },
  {
   "cell_type": "code",
   "execution_count": 17,
   "id": "0e22b278",
   "metadata": {},
   "outputs": [
    {
     "name": "stdout",
     "output_type": "stream",
     "text": [
      "[i] Data/results_in_progress_San_Diego_sushi.json not found. Saving empty list to new file.\n"
     ]
    }
   ],
   "source": [
    "create_json_file(JSON_FILE,  delete_if_exists=False)"
   ]
  },
  {
   "cell_type": "code",
   "execution_count": 18,
   "id": "21aad509",
   "metadata": {},
   "outputs": [
    {
     "name": "stdout",
     "output_type": "stream",
     "text": [
      "- 0 previous results found.\n"
     ]
    }
   ],
   "source": [
    "## Load previous results and use len of results for offset\n",
    "with open(JSON_FILE,'r') as f:\n",
    "    previous_results = json.load(f)\n",
    "    \n",
    "## set offset based on previous results\n",
    "n_results = len(previous_results)\n",
    "print(f'- {n_results} previous results found.')"
   ]
  },
  {
   "cell_type": "code",
   "execution_count": 19,
   "id": "4992c252",
   "metadata": {},
   "outputs": [
    {
     "data": {
      "text/plain": [
       "dict_keys(['businesses', 'total', 'region'])"
      ]
     },
     "execution_count": 19,
     "metadata": {},
     "output_type": "execute_result"
    }
   ],
   "source": [
    "# use our yelp_api variable's search_query method to perform our API call\n",
    "results = yelp_api.search_query(location=LOCATION,\n",
    "                                term=TERM,\n",
    "                               offset=n_results)\n",
    "results.keys()"
   ]
  },
  {
   "cell_type": "code",
   "execution_count": 20,
   "id": "bcc64d7b",
   "metadata": {},
   "outputs": [
    {
     "data": {
      "text/plain": [
       "1600"
      ]
     },
     "execution_count": 20,
     "metadata": {},
     "output_type": "execute_result"
    }
   ],
   "source": [
    "## How many results total?\n",
    "total_results = results['total']\n",
    "total_results"
   ]
  },
  {
   "cell_type": "code",
   "execution_count": 21,
   "id": "2e075c32",
   "metadata": {},
   "outputs": [
    {
     "data": {
      "text/plain": [
       "20"
      ]
     },
     "execution_count": 21,
     "metadata": {},
     "output_type": "execute_result"
    }
   ],
   "source": [
    "## How many did we get the details for?\n",
    "results_per_page = len(results['businesses'])\n",
    "results_per_page"
   ]
  },
  {
   "cell_type": "code",
   "execution_count": 22,
   "id": "bd9f3506",
   "metadata": {},
   "outputs": [
    {
     "data": {
      "text/plain": [
       "80"
      ]
     },
     "execution_count": 22,
     "metadata": {},
     "output_type": "execute_result"
    }
   ],
   "source": [
    "# Import additional packages for controlling our loop\n",
    "import time, math\n",
    "# Use math.ceil to round up for the total number of pages of results.\n",
    "n_pages = math.ceil((results['total']-n_results)/ results_per_page)\n",
    "n_pages"
   ]
  },
  {
   "cell_type": "code",
   "execution_count": 23,
   "id": "68ac8fca",
   "metadata": {},
   "outputs": [],
   "source": [
    "# join new results with old list with extend and save to file\n",
    "previous_results.extend(results['businesses'])  \n",
    "with open(JSON_FILE,'w') as f:\n",
    "     json.dump(previous_results,f)"
   ]
  },
  {
   "cell_type": "code",
   "execution_count": 24,
   "id": "66d2a7f8",
   "metadata": {},
   "outputs": [
    {
     "data": {
      "application/vnd.jupyter.widget-view+json": {
       "model_id": "a13903dfa9d34246a72dd1b1a1472f2f",
       "version_major": 2,
       "version_minor": 0
      },
      "text/plain": [
       "  0%|          | 0/80 [00:00<?, ?it/s]"
      ]
     },
     "metadata": {},
     "output_type": "display_data"
    }
   ],
   "source": [
    "from tqdm.notebook import tqdm_notebook\n",
    "import time\n",
    "for i in tqdm_notebook(range(n_pages)):\n",
    "    # adds 200 ms pause\n",
    "    time.sleep(.2) "
   ]
  },
  {
   "cell_type": "code",
   "execution_count": 26,
   "id": "8fda45fb",
   "metadata": {},
   "outputs": [
    {
     "name": "stdout",
     "output_type": "stream",
     "text": [
      "[!] Data/results_in_progress_San_Diego_sushi.json already exists. Deleting previous file...\n",
      "[i] Data/results_in_progress_San_Diego_sushi.json not found. Saving empty list to new file.\n",
      "- 0 previous results found.\n"
     ]
    },
    {
     "data": {
      "text/plain": [
       "80"
      ]
     },
     "execution_count": 26,
     "metadata": {},
     "output_type": "execute_result"
    }
   ],
   "source": [
    "## Create a new empty json file (exist the previous if it exists)\n",
    "create_json_file(JSON_FILE, delete_if_exists=True)\n",
    "## Load previous results and use len of results for offset\n",
    "with open(JSON_FILE,'r') as f:\n",
    "    previous_results = json.load(f)\n",
    "    \n",
    "## set offset based on previous results\n",
    "n_results = len(previous_results)\n",
    "print(f'- {n_results} previous results found.')\n",
    "# use our yelp_api variable's search_query method to perform our API call\n",
    "results = yelp_api.search_query(location=LOCATION,\n",
    "                                term=TERM,\n",
    "                               offset=n_results)\n",
    "## How many results total?\n",
    "total_results = results['total']\n",
    "## How many did we get the details for?\n",
    "results_per_page = len(results['businesses'])\n",
    "# Use math.ceil to round up for the total number of pages of results.\n",
    "n_pages = math.ceil((results['total']-n_results)/ results_per_page)\n",
    "n_pages"
   ]
  },
  {
   "cell_type": "code",
   "execution_count": 31,
   "id": "d18bcb48",
   "metadata": {},
   "outputs": [
    {
     "data": {
      "application/vnd.jupyter.widget-view+json": {
       "model_id": "148b856ce27546d28911ace8d3fa3a20",
       "version_major": 2,
       "version_minor": 0
      },
      "text/plain": [
       "  0%|          | 0/80 [00:00<?, ?it/s]"
      ]
     },
     "metadata": {},
     "output_type": "display_data"
    },
    {
     "name": "stdout",
     "output_type": "stream",
     "text": [
      "Exceeded 1000 api calls. Stopping loop.\n"
     ]
    }
   ],
   "source": [
    "for i in tqdm_notebook( range(1,n_pages+1)):\n",
    "    \n",
    "    ## Read in results in progress file and check the length\n",
    "    with open(JSON_FILE, 'r') as f:\n",
    "        previous_results = json.load(f)\n",
    "    ## save number of results for to use as offset\n",
    "    n_results = len(previous_results)\n",
    "    \n",
    "    if (n_results + results_per_page) > 1000:\n",
    "        print('Exceeded 1000 api calls. Stopping loop.')\n",
    "        break\n",
    "    \n",
    "    ## use n_results as the OFFSET \n",
    "    results = yelp_api.search_query(location=LOCATION,\n",
    "                                    term=TERM, \n",
    "                                    offset=n_results)\n",
    "    \n",
    "    \n",
    "    \n",
    "    ## append new results and save to file\n",
    "    previous_results.extend(results['businesses'])\n",
    "    \n",
    "    # display(previous_results)\n",
    "    with open(JSON_FILE,'w') as f:\n",
    "        json.dump(previous_results,f)\n",
    "    \n",
    "    time.sleep(.1)"
   ]
  },
  {
   "cell_type": "code",
   "execution_count": 32,
   "id": "24bc53f3",
   "metadata": {},
   "outputs": [
    {
     "data": {
      "text/html": [
       "<div>\n",
       "<style scoped>\n",
       "    .dataframe tbody tr th:only-of-type {\n",
       "        vertical-align: middle;\n",
       "    }\n",
       "\n",
       "    .dataframe tbody tr th {\n",
       "        vertical-align: top;\n",
       "    }\n",
       "\n",
       "    .dataframe thead th {\n",
       "        text-align: right;\n",
       "    }\n",
       "</style>\n",
       "<table border=\"1\" class=\"dataframe\">\n",
       "  <thead>\n",
       "    <tr style=\"text-align: right;\">\n",
       "      <th></th>\n",
       "      <th>id</th>\n",
       "      <th>alias</th>\n",
       "      <th>name</th>\n",
       "      <th>image_url</th>\n",
       "      <th>is_closed</th>\n",
       "      <th>url</th>\n",
       "      <th>review_count</th>\n",
       "      <th>categories</th>\n",
       "      <th>rating</th>\n",
       "      <th>coordinates</th>\n",
       "      <th>transactions</th>\n",
       "      <th>price</th>\n",
       "      <th>location</th>\n",
       "      <th>phone</th>\n",
       "      <th>display_phone</th>\n",
       "      <th>distance</th>\n",
       "    </tr>\n",
       "  </thead>\n",
       "  <tbody>\n",
       "    <tr>\n",
       "      <th>0</th>\n",
       "      <td>3S6VtYgcXL8lRic0iV5GYQ</td>\n",
       "      <td>sushi-ota-san-diego</td>\n",
       "      <td>Sushi Ota</td>\n",
       "      <td>https://s3-media3.fl.yelpcdn.com/bphoto/rWQ8VS...</td>\n",
       "      <td>False</td>\n",
       "      <td>https://www.yelp.com/biz/sushi-ota-san-diego?a...</td>\n",
       "      <td>4386</td>\n",
       "      <td>[{'alias': 'sushi', 'title': 'Sushi Bars'}, {'...</td>\n",
       "      <td>4.5</td>\n",
       "      <td>{'latitude': 32.8036636, 'longitude': -117.217...</td>\n",
       "      <td>[delivery]</td>\n",
       "      <td>$$$</td>\n",
       "      <td>{'address1': '4529 Mission Bay Dr', 'address2'...</td>\n",
       "      <td>+18588808778</td>\n",
       "      <td>(858) 880-8778</td>\n",
       "      <td>11596.015168</td>\n",
       "    </tr>\n",
       "    <tr>\n",
       "      <th>1</th>\n",
       "      <td>O1NFJA0OI0-N77JzP7qlfQ</td>\n",
       "      <td>azuki-sushi-san-diego-2</td>\n",
       "      <td>Azuki Sushi</td>\n",
       "      <td>https://s3-media4.fl.yelpcdn.com/bphoto/OhZXVg...</td>\n",
       "      <td>False</td>\n",
       "      <td>https://www.yelp.com/biz/azuki-sushi-san-diego...</td>\n",
       "      <td>2866</td>\n",
       "      <td>[{'alias': 'sushi', 'title': 'Sushi Bars'}, {'...</td>\n",
       "      <td>4.5</td>\n",
       "      <td>{'latitude': 32.7296447753906, 'longitude': -1...</td>\n",
       "      <td>[delivery, restaurant_reservation, pickup]</td>\n",
       "      <td>$$</td>\n",
       "      <td>{'address1': '2321 5th Ave', 'address2': '', '...</td>\n",
       "      <td>+16192384760</td>\n",
       "      <td>(619) 238-4760</td>\n",
       "      <td>12080.290756</td>\n",
       "    </tr>\n",
       "    <tr>\n",
       "      <th>2</th>\n",
       "      <td>_8-J0_Q4YmHhWTGEx1bCew</td>\n",
       "      <td>kaki-sushi-san-diego</td>\n",
       "      <td>Kaki Sushi</td>\n",
       "      <td>https://s3-media4.fl.yelpcdn.com/bphoto/8C1FWN...</td>\n",
       "      <td>False</td>\n",
       "      <td>https://www.yelp.com/biz/kaki-sushi-san-diego?...</td>\n",
       "      <td>187</td>\n",
       "      <td>[{'alias': 'japanese', 'title': 'Japanese'}, {...</td>\n",
       "      <td>4.5</td>\n",
       "      <td>{'latitude': 32.83017, 'longitude': -117.10431}</td>\n",
       "      <td>[delivery, pickup]</td>\n",
       "      <td>$$</td>\n",
       "      <td>{'address1': '10428 Clairemont Mesa Blvd', 'ad...</td>\n",
       "      <td>+18585712012</td>\n",
       "      <td>(858) 571-2012</td>\n",
       "      <td>1162.353505</td>\n",
       "    </tr>\n",
       "    <tr>\n",
       "      <th>3</th>\n",
       "      <td>yp7SqJJuN6xedIWjz_MH1Q</td>\n",
       "      <td>sushi-diner-2-san-diego</td>\n",
       "      <td>Sushi Diner 2</td>\n",
       "      <td>https://s3-media1.fl.yelpcdn.com/bphoto/1JBW6K...</td>\n",
       "      <td>False</td>\n",
       "      <td>https://www.yelp.com/biz/sushi-diner-2-san-die...</td>\n",
       "      <td>461</td>\n",
       "      <td>[{'alias': 'sushi', 'title': 'Sushi Bars'}]</td>\n",
       "      <td>4.0</td>\n",
       "      <td>{'latitude': 32.791911, 'longitude': -117.100473}</td>\n",
       "      <td>[delivery]</td>\n",
       "      <td>$$</td>\n",
       "      <td>{'address1': '10330 Friars Rd', 'address2': 'S...</td>\n",
       "      <td>+16192816448</td>\n",
       "      <td>(619) 281-6448</td>\n",
       "      <td>3553.159094</td>\n",
       "    </tr>\n",
       "    <tr>\n",
       "      <th>4</th>\n",
       "      <td>kUv1KwH-N3ATlRfzOX7nCg</td>\n",
       "      <td>kura-revolving-sushi-bar-san-diego-2</td>\n",
       "      <td>Kura Revolving Sushi Bar</td>\n",
       "      <td>https://s3-media1.fl.yelpcdn.com/bphoto/KCWuH6...</td>\n",
       "      <td>False</td>\n",
       "      <td>https://www.yelp.com/biz/kura-revolving-sushi-...</td>\n",
       "      <td>2393</td>\n",
       "      <td>[{'alias': 'sushi', 'title': 'Sushi Bars'}, {'...</td>\n",
       "      <td>4.0</td>\n",
       "      <td>{'latitude': 32.8238827, 'longitude': -117.15469}</td>\n",
       "      <td>[delivery]</td>\n",
       "      <td>$$</td>\n",
       "      <td>{'address1': '4609 Convoy St', 'address2': 'St...</td>\n",
       "      <td>+18587154605</td>\n",
       "      <td>(858) 715-4605</td>\n",
       "      <td>5574.702568</td>\n",
       "    </tr>\n",
       "  </tbody>\n",
       "</table>\n",
       "</div>"
      ],
      "text/plain": [
       "                       id                                 alias  \\\n",
       "0  3S6VtYgcXL8lRic0iV5GYQ                   sushi-ota-san-diego   \n",
       "1  O1NFJA0OI0-N77JzP7qlfQ               azuki-sushi-san-diego-2   \n",
       "2  _8-J0_Q4YmHhWTGEx1bCew                  kaki-sushi-san-diego   \n",
       "3  yp7SqJJuN6xedIWjz_MH1Q               sushi-diner-2-san-diego   \n",
       "4  kUv1KwH-N3ATlRfzOX7nCg  kura-revolving-sushi-bar-san-diego-2   \n",
       "\n",
       "                       name  \\\n",
       "0                 Sushi Ota   \n",
       "1               Azuki Sushi   \n",
       "2                Kaki Sushi   \n",
       "3             Sushi Diner 2   \n",
       "4  Kura Revolving Sushi Bar   \n",
       "\n",
       "                                           image_url  is_closed  \\\n",
       "0  https://s3-media3.fl.yelpcdn.com/bphoto/rWQ8VS...      False   \n",
       "1  https://s3-media4.fl.yelpcdn.com/bphoto/OhZXVg...      False   \n",
       "2  https://s3-media4.fl.yelpcdn.com/bphoto/8C1FWN...      False   \n",
       "3  https://s3-media1.fl.yelpcdn.com/bphoto/1JBW6K...      False   \n",
       "4  https://s3-media1.fl.yelpcdn.com/bphoto/KCWuH6...      False   \n",
       "\n",
       "                                                 url  review_count  \\\n",
       "0  https://www.yelp.com/biz/sushi-ota-san-diego?a...          4386   \n",
       "1  https://www.yelp.com/biz/azuki-sushi-san-diego...          2866   \n",
       "2  https://www.yelp.com/biz/kaki-sushi-san-diego?...           187   \n",
       "3  https://www.yelp.com/biz/sushi-diner-2-san-die...           461   \n",
       "4  https://www.yelp.com/biz/kura-revolving-sushi-...          2393   \n",
       "\n",
       "                                          categories  rating  \\\n",
       "0  [{'alias': 'sushi', 'title': 'Sushi Bars'}, {'...     4.5   \n",
       "1  [{'alias': 'sushi', 'title': 'Sushi Bars'}, {'...     4.5   \n",
       "2  [{'alias': 'japanese', 'title': 'Japanese'}, {...     4.5   \n",
       "3        [{'alias': 'sushi', 'title': 'Sushi Bars'}]     4.0   \n",
       "4  [{'alias': 'sushi', 'title': 'Sushi Bars'}, {'...     4.0   \n",
       "\n",
       "                                         coordinates  \\\n",
       "0  {'latitude': 32.8036636, 'longitude': -117.217...   \n",
       "1  {'latitude': 32.7296447753906, 'longitude': -1...   \n",
       "2    {'latitude': 32.83017, 'longitude': -117.10431}   \n",
       "3  {'latitude': 32.791911, 'longitude': -117.100473}   \n",
       "4  {'latitude': 32.8238827, 'longitude': -117.15469}   \n",
       "\n",
       "                                 transactions price  \\\n",
       "0                                  [delivery]   $$$   \n",
       "1  [delivery, restaurant_reservation, pickup]    $$   \n",
       "2                          [delivery, pickup]    $$   \n",
       "3                                  [delivery]    $$   \n",
       "4                                  [delivery]    $$   \n",
       "\n",
       "                                            location         phone  \\\n",
       "0  {'address1': '4529 Mission Bay Dr', 'address2'...  +18588808778   \n",
       "1  {'address1': '2321 5th Ave', 'address2': '', '...  +16192384760   \n",
       "2  {'address1': '10428 Clairemont Mesa Blvd', 'ad...  +18585712012   \n",
       "3  {'address1': '10330 Friars Rd', 'address2': 'S...  +16192816448   \n",
       "4  {'address1': '4609 Convoy St', 'address2': 'St...  +18587154605   \n",
       "\n",
       "    display_phone      distance  \n",
       "0  (858) 880-8778  11596.015168  \n",
       "1  (619) 238-4760  12080.290756  \n",
       "2  (858) 571-2012   1162.353505  \n",
       "3  (619) 281-6448   3553.159094  \n",
       "4  (858) 715-4605   5574.702568  "
      ]
     },
     "metadata": {},
     "output_type": "display_data"
    },
    {
     "data": {
      "text/html": [
       "<div>\n",
       "<style scoped>\n",
       "    .dataframe tbody tr th:only-of-type {\n",
       "        vertical-align: middle;\n",
       "    }\n",
       "\n",
       "    .dataframe tbody tr th {\n",
       "        vertical-align: top;\n",
       "    }\n",
       "\n",
       "    .dataframe thead th {\n",
       "        text-align: right;\n",
       "    }\n",
       "</style>\n",
       "<table border=\"1\" class=\"dataframe\">\n",
       "  <thead>\n",
       "    <tr style=\"text-align: right;\">\n",
       "      <th></th>\n",
       "      <th>id</th>\n",
       "      <th>alias</th>\n",
       "      <th>name</th>\n",
       "      <th>image_url</th>\n",
       "      <th>is_closed</th>\n",
       "      <th>url</th>\n",
       "      <th>review_count</th>\n",
       "      <th>categories</th>\n",
       "      <th>rating</th>\n",
       "      <th>coordinates</th>\n",
       "      <th>transactions</th>\n",
       "      <th>price</th>\n",
       "      <th>location</th>\n",
       "      <th>phone</th>\n",
       "      <th>display_phone</th>\n",
       "      <th>distance</th>\n",
       "    </tr>\n",
       "  </thead>\n",
       "  <tbody>\n",
       "    <tr>\n",
       "      <th>995</th>\n",
       "      <td>7ffENycJAzU8w51xn5sWlQ</td>\n",
       "      <td>cowboy-star-san-diego</td>\n",
       "      <td>Cowboy Star</td>\n",
       "      <td>https://s3-media1.fl.yelpcdn.com/bphoto/ueYHzE...</td>\n",
       "      <td>False</td>\n",
       "      <td>https://www.yelp.com/biz/cowboy-star-san-diego...</td>\n",
       "      <td>1852</td>\n",
       "      <td>[{'alias': 'steak', 'title': 'Steakhouses'}, {...</td>\n",
       "      <td>4.0</td>\n",
       "      <td>{'latitude': 32.71220369054662, 'longitude': -...</td>\n",
       "      <td>[delivery]</td>\n",
       "      <td>$$$</td>\n",
       "      <td>{'address1': '640 10th Ave', 'address2': '', '...</td>\n",
       "      <td>+16194505880</td>\n",
       "      <td>(619) 450-5880</td>\n",
       "      <td>13618.833044</td>\n",
       "    </tr>\n",
       "    <tr>\n",
       "      <th>996</th>\n",
       "      <td>We1K46Xs7GDDkzcAkC9uGg</td>\n",
       "      <td>sol-agave-san-clemente-san-clemente</td>\n",
       "      <td>Sol Agave - San Clemente</td>\n",
       "      <td>https://s3-media3.fl.yelpcdn.com/bphoto/MNxdLs...</td>\n",
       "      <td>False</td>\n",
       "      <td>https://www.yelp.com/biz/sol-agave-san-clement...</td>\n",
       "      <td>442</td>\n",
       "      <td>[{'alias': 'mexican', 'title': 'Mexican'}]</td>\n",
       "      <td>4.5</td>\n",
       "      <td>{'latitude': 33.426863, 'longitude': -117.613242}</td>\n",
       "      <td>[pickup, delivery]</td>\n",
       "      <td>$$</td>\n",
       "      <td>{'address1': '111 Avenida Del Mar', 'address2'...</td>\n",
       "      <td>+19493122210</td>\n",
       "      <td>(949) 312-2210</td>\n",
       "      <td>82644.198466</td>\n",
       "    </tr>\n",
       "    <tr>\n",
       "      <th>997</th>\n",
       "      <td>4e9iy-2OVNL3eh_aiCVJSw</td>\n",
       "      <td>fig-tree-cafe-san-diego-7</td>\n",
       "      <td>Fig Tree Cafe</td>\n",
       "      <td>https://s3-media1.fl.yelpcdn.com/bphoto/mKW99Y...</td>\n",
       "      <td>False</td>\n",
       "      <td>https://www.yelp.com/biz/fig-tree-cafe-san-die...</td>\n",
       "      <td>201</td>\n",
       "      <td>[{'alias': 'breakfast_brunch', 'title': 'Break...</td>\n",
       "      <td>4.0</td>\n",
       "      <td>{'latitude': 32.712376, 'longitude': -117.1590...</td>\n",
       "      <td>[pickup, delivery]</td>\n",
       "      <td>$$</td>\n",
       "      <td>{'address1': '695 Sixth Ave', 'address2': None...</td>\n",
       "      <td>+16193494890</td>\n",
       "      <td>(619) 349-4890</td>\n",
       "      <td>13727.532195</td>\n",
       "    </tr>\n",
       "    <tr>\n",
       "      <th>998</th>\n",
       "      <td>B1NfUF_EsOyFahUulUgvtw</td>\n",
       "      <td>the-spot-san-diego-5</td>\n",
       "      <td>The Spot</td>\n",
       "      <td>https://s3-media3.fl.yelpcdn.com/bphoto/MHpYen...</td>\n",
       "      <td>False</td>\n",
       "      <td>https://www.yelp.com/biz/the-spot-san-diego-5?...</td>\n",
       "      <td>3</td>\n",
       "      <td>[{'alias': 'foodtrucks', 'title': 'Food Trucks'}]</td>\n",
       "      <td>5.0</td>\n",
       "      <td>{'latitude': 32.753795960876886, 'longitude': ...</td>\n",
       "      <td>[]</td>\n",
       "      <td>NaN</td>\n",
       "      <td>{'address1': '3742 Midway Dr', 'address2': '',...</td>\n",
       "      <td></td>\n",
       "      <td></td>\n",
       "      <td>13796.170118</td>\n",
       "    </tr>\n",
       "    <tr>\n",
       "      <th>999</th>\n",
       "      <td>gBShJ0bHyXuQXhbKfEhZfg</td>\n",
       "      <td>uptown-tavern-san-diego</td>\n",
       "      <td>Uptown Tavern</td>\n",
       "      <td>https://s3-media3.fl.yelpcdn.com/bphoto/L2_AxM...</td>\n",
       "      <td>False</td>\n",
       "      <td>https://www.yelp.com/biz/uptown-tavern-san-die...</td>\n",
       "      <td>646</td>\n",
       "      <td>[{'alias': 'newamerican', 'title': 'American (...</td>\n",
       "      <td>4.0</td>\n",
       "      <td>{'latitude': 32.7486064912939, 'longitude': -1...</td>\n",
       "      <td>[delivery]</td>\n",
       "      <td>$$</td>\n",
       "      <td>{'address1': '1236 University Ave', 'address2'...</td>\n",
       "      <td>+16192412710</td>\n",
       "      <td>(619) 241-2710</td>\n",
       "      <td>9921.803178</td>\n",
       "    </tr>\n",
       "  </tbody>\n",
       "</table>\n",
       "</div>"
      ],
      "text/plain": [
       "                         id                                alias  \\\n",
       "995  7ffENycJAzU8w51xn5sWlQ                cowboy-star-san-diego   \n",
       "996  We1K46Xs7GDDkzcAkC9uGg  sol-agave-san-clemente-san-clemente   \n",
       "997  4e9iy-2OVNL3eh_aiCVJSw            fig-tree-cafe-san-diego-7   \n",
       "998  B1NfUF_EsOyFahUulUgvtw                 the-spot-san-diego-5   \n",
       "999  gBShJ0bHyXuQXhbKfEhZfg              uptown-tavern-san-diego   \n",
       "\n",
       "                         name  \\\n",
       "995               Cowboy Star   \n",
       "996  Sol Agave - San Clemente   \n",
       "997             Fig Tree Cafe   \n",
       "998                  The Spot   \n",
       "999             Uptown Tavern   \n",
       "\n",
       "                                             image_url  is_closed  \\\n",
       "995  https://s3-media1.fl.yelpcdn.com/bphoto/ueYHzE...      False   \n",
       "996  https://s3-media3.fl.yelpcdn.com/bphoto/MNxdLs...      False   \n",
       "997  https://s3-media1.fl.yelpcdn.com/bphoto/mKW99Y...      False   \n",
       "998  https://s3-media3.fl.yelpcdn.com/bphoto/MHpYen...      False   \n",
       "999  https://s3-media3.fl.yelpcdn.com/bphoto/L2_AxM...      False   \n",
       "\n",
       "                                                   url  review_count  \\\n",
       "995  https://www.yelp.com/biz/cowboy-star-san-diego...          1852   \n",
       "996  https://www.yelp.com/biz/sol-agave-san-clement...           442   \n",
       "997  https://www.yelp.com/biz/fig-tree-cafe-san-die...           201   \n",
       "998  https://www.yelp.com/biz/the-spot-san-diego-5?...             3   \n",
       "999  https://www.yelp.com/biz/uptown-tavern-san-die...           646   \n",
       "\n",
       "                                            categories  rating  \\\n",
       "995  [{'alias': 'steak', 'title': 'Steakhouses'}, {...     4.0   \n",
       "996         [{'alias': 'mexican', 'title': 'Mexican'}]     4.5   \n",
       "997  [{'alias': 'breakfast_brunch', 'title': 'Break...     4.0   \n",
       "998  [{'alias': 'foodtrucks', 'title': 'Food Trucks'}]     5.0   \n",
       "999  [{'alias': 'newamerican', 'title': 'American (...     4.0   \n",
       "\n",
       "                                           coordinates        transactions  \\\n",
       "995  {'latitude': 32.71220369054662, 'longitude': -...          [delivery]   \n",
       "996  {'latitude': 33.426863, 'longitude': -117.613242}  [pickup, delivery]   \n",
       "997  {'latitude': 32.712376, 'longitude': -117.1590...  [pickup, delivery]   \n",
       "998  {'latitude': 32.753795960876886, 'longitude': ...                  []   \n",
       "999  {'latitude': 32.7486064912939, 'longitude': -1...          [delivery]   \n",
       "\n",
       "    price                                           location         phone  \\\n",
       "995   $$$  {'address1': '640 10th Ave', 'address2': '', '...  +16194505880   \n",
       "996    $$  {'address1': '111 Avenida Del Mar', 'address2'...  +19493122210   \n",
       "997    $$  {'address1': '695 Sixth Ave', 'address2': None...  +16193494890   \n",
       "998   NaN  {'address1': '3742 Midway Dr', 'address2': '',...                 \n",
       "999    $$  {'address1': '1236 University Ave', 'address2'...  +16192412710   \n",
       "\n",
       "      display_phone      distance  \n",
       "995  (619) 450-5880  13618.833044  \n",
       "996  (949) 312-2210  82644.198466  \n",
       "997  (619) 349-4890  13727.532195  \n",
       "998                  13796.170118  \n",
       "999  (619) 241-2710   9921.803178  "
      ]
     },
     "metadata": {},
     "output_type": "display_data"
    }
   ],
   "source": [
    "# load final results\n",
    "final_df = pd.read_json(JSON_FILE)\n",
    "display(final_df.head(), final_df.tail())"
   ]
  },
  {
   "cell_type": "code",
   "execution_count": 33,
   "id": "35e13378",
   "metadata": {},
   "outputs": [
    {
     "data": {
      "text/plain": [
       "0"
      ]
     },
     "execution_count": 33,
     "metadata": {},
     "output_type": "execute_result"
    }
   ],
   "source": [
    "# check for duplicate results\n",
    "final_df.duplicated(subset = 'id').sum()"
   ]
  },
  {
   "cell_type": "code",
   "execution_count": 34,
   "id": "1d2b05d5",
   "metadata": {},
   "outputs": [],
   "source": [
    "# save the final results to a compressed csv\n",
    "final_df.to_csv('Data/final_results_San_Diego_sushi.csv.gz', compression='gzip',index=False)"
   ]
  }
 ],
 "metadata": {
  "kernelspec": {
   "display_name": "Python (dojo-env)",
   "language": "python",
   "name": "dojo-env"
  },
  "language_info": {
   "codemirror_mode": {
    "name": "ipython",
    "version": 3
   },
   "file_extension": ".py",
   "mimetype": "text/x-python",
   "name": "python",
   "nbconvert_exporter": "python",
   "pygments_lexer": "ipython3",
   "version": "3.9.15"
  },
  "toc": {
   "base_numbering": 1,
   "nav_menu": {},
   "number_sections": false,
   "sideBar": true,
   "skip_h1_title": false,
   "title_cell": "Table of Contents",
   "title_sidebar": "Contents",
   "toc_cell": false,
   "toc_position": {},
   "toc_section_display": true,
   "toc_window_display": false
  }
 },
 "nbformat": 4,
 "nbformat_minor": 5
}
